{
 "cells": [
  {
   "attachments": {},
   "cell_type": "markdown",
   "metadata": {},
   "source": [
    "# Student Admission Prediction Challenge Submission"
   ]
  },
  {
   "attachments": {},
   "cell_type": "markdown",
   "metadata": {},
   "source": [
    "Jason Rosner, Spencer Beatty, Thomas Houlahan, Patrick Blais"
   ]
  },
  {
   "cell_type": "code",
   "execution_count": 16,
   "metadata": {},
   "outputs": [],
   "source": [
    "import numpy as np\n",
    "TRAINING_DATA_PATH = './data/Past_Students.csv'\n",
    "PREDICTION_DATA_PATH = './data/Graduating_Class.csv'"
   ]
  },
  {
   "attachments": {},
   "cell_type": "markdown",
   "metadata": {},
   "source": [
    "## Load the Data"
   ]
  },
  {
   "cell_type": "code",
   "execution_count": 15,
   "metadata": {},
   "outputs": [],
   "source": [
    "training_data = np.genfromtxt(TRAINING_DATA_PATH, delimiter=',',dtype=None, names=True)\n",
    "prediction_data = np.genfromtxt(PREDICTION_DATA_PATH, delimiter=',',dtype=None, names=True)"
   ]
  }
 ],
 "metadata": {
  "kernelspec": {
   "display_name": "base",
   "language": "python",
   "name": "python3"
  },
  "language_info": {
   "codemirror_mode": {
    "name": "ipython",
    "version": 3
   },
   "file_extension": ".py",
   "mimetype": "text/x-python",
   "name": "python",
   "nbconvert_exporter": "python",
   "pygments_lexer": "ipython3",
   "version": "3.9.12"
  },
  "orig_nbformat": 4,
  "vscode": {
   "interpreter": {
    "hash": "ccf5aababb4f65819a64e23975fa4b0e74857f8a002ca676e85fbd7d786266f5"
   }
  }
 },
 "nbformat": 4,
 "nbformat_minor": 2
}
